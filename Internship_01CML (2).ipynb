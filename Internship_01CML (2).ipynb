{
  "nbformat": 4,
  "nbformat_minor": 0,
  "metadata": {
    "colab": {
      "provenance": []
    },
    "kernelspec": {
      "name": "python3",
      "display_name": "Python 3"
    },
    "language_info": {
      "name": "python"
    }
  },
  "cells": [
    {
      "cell_type": "code",
      "execution_count": null,
      "metadata": {
        "id": "Jiqj2z-H452t"
      },
      "outputs": [],
      "source": [
        "import pandas as pd\n",
        "import numpy as np\n"
      ]
    },
    {
      "cell_type": "code",
      "source": [
        "\n",
        "account=pd.read_csv(\"/content/account.csv\", delimiter=\";\")\n",
        "card=pd.read_csv(\"/content/card.csv\", delimiter=\";\")\n",
        "loan=pd.read_csv(\"/content/loan.csv\", delimiter=\";\")\n",
        "client=pd.read_csv(\"/content/client.csv\", delimiter=\";\")\n",
        "disp=pd.read_csv(\"/content/disp.csv\", delimiter=\";\")\n",
        "district=pd.read_csv(\"/content/district.csv\", delimiter=\";\")\n",
        "order=pd.read_csv(\"/content/order.csv\", delimiter=\";\")\n",
        "trans=pd.read_csv(\"/content/trans.csv\", delimiter=\";\")"
      ],
      "metadata": {
        "id": "L95zl2jd5FNo"
      },
      "execution_count": 63,
      "outputs": []
    },
    {
      "cell_type": "code",
      "source": [
        "\n",
        "tables = {\n",
        "    \"account\": account.columns.tolist(),\n",
        "    \"card\": card.columns.tolist(),\n",
        "    \"loan\": loan.columns.tolist(),\n",
        "    \"client\": client.columns.tolist(),\n",
        "    \"disp\": disp.columns.tolist(),\n",
        "    \"district\": district.columns.tolist(),\n",
        "    \"order\": order.columns.tolist(),\n",
        "    \"trans\": trans.columns.tolist(),\n",
        "}\n",
        "\n",
        "for table_name, columns in tables.items():\n",
        "    print(f\"{table_name} columns:\")\n",
        "    print(columns)\n",
        "    print()\n"
      ],
      "metadata": {
        "id": "3K9vcGFyAmPx",
        "colab": {
          "base_uri": "https://localhost:8080/"
        },
        "outputId": "3beb0902-0309-490c-f0a9-c631309f6fde"
      },
      "execution_count": 84,
      "outputs": [
        {
          "output_type": "stream",
          "name": "stdout",
          "text": [
            "account columns:\n",
            "['account_id', 'district_id', 'frequency', 'date']\n",
            "\n",
            "card columns:\n",
            "['card_id', 'disp_id', 'type', 'issued']\n",
            "\n",
            "loan columns:\n",
            "['loan_id', 'account_id', 'date', 'amount', 'duration', 'payments', 'status']\n",
            "\n",
            "client columns:\n",
            "['client_id', 'birth_number', 'district_id']\n",
            "\n",
            "disp columns:\n",
            "['disp_id', 'client_id', 'account_id', 'type']\n",
            "\n",
            "district columns:\n",
            "['A1', 'district', 'region_name', 'A4']\n",
            "\n",
            "order columns:\n",
            "['order_id', 'account_id', 'bank_to', 'account_to', 'amount', 'k_symbol']\n",
            "\n",
            "trans columns:\n",
            "['trans_id,account_id,date,type,operation,amount,balance,k_symbol,bank,account']\n",
            "\n"
          ]
        }
      ]
    },
    {
      "cell_type": "code",
      "source": [
        "\n",
        "district.drop(district.columns[4:16], axis=1, inplace=True)\n"
      ],
      "metadata": {
        "id": "8RV696PUadR-"
      },
      "execution_count": 70,
      "outputs": []
    },
    {
      "cell_type": "code",
      "source": [
        "district.columns"
      ],
      "metadata": {
        "id": "bHuM_YjFRk3W",
        "colab": {
          "base_uri": "https://localhost:8080/"
        },
        "outputId": "d763a4e9-0c01-4e8c-a3eb-e42c1d363ca0"
      },
      "execution_count": 71,
      "outputs": [
        {
          "output_type": "execute_result",
          "data": {
            "text/plain": [
              "Index(['A1', 'A2', 'A3', 'A4'], dtype='object')"
            ]
          },
          "metadata": {},
          "execution_count": 71
        }
      ]
    },
    {
      "cell_type": "code",
      "source": [
        "#name changing from a2,a3\n",
        "district.rename(columns={\"A2\": \"district\", \"A3\": \"region_name\"}, inplace=True)\n"
      ],
      "metadata": {
        "id": "Y5RDVRJbaMfQ"
      },
      "execution_count": 75,
      "outputs": []
    },
    {
      "cell_type": "code",
      "source": [
        "district.columns"
      ],
      "metadata": {
        "colab": {
          "base_uri": "https://localhost:8080/"
        },
        "id": "2z-AnZIsaBZM",
        "outputId": "3fae54f8-8649-4468-a03b-5f5a7a2ceab6"
      },
      "execution_count": 76,
      "outputs": [
        {
          "output_type": "execute_result",
          "data": {
            "text/plain": [
              "Index(['A1', 'district', 'region_name', 'A4'], dtype='object')"
            ]
          },
          "metadata": {},
          "execution_count": 76
        }
      ]
    },
    {
      "cell_type": "code",
      "source": [
        "#merged and join all the columns except trans:\n",
        "merged_data = pd.merge(left=account, right=loan, on=\"account_id\")\n",
        "\n",
        "joined_table = pd.merge(disp, client, on=\"client_id\", how=\"inner\")\n",
        "\n",
        "joined_data = pd.merge(account, order, on=\"account_id\")\n",
        "\n",
        "merged_df = pd.merge(card, disp, on=\"disp_id\")\n",
        "\n",
        "joined_data = pd.merge(account, disp, on=\"account_id\", how=\"inner\")\n",
        "\n",
        "clients_districts_df = pd.merge(client, district, left_on='district_id', right_on='A1', how='left')\n",
        "\n",
        "joined_data = pd.merge(left=account, right=trans, on=\"account_id\")\n",
        "\n"
      ],
      "metadata": {
        "id": "-anVnEeMgC20"
      },
      "execution_count": 129,
      "outputs": []
    },
    {
      "cell_type": "markdown",
      "source": [
        "# **Que and Ans**"
      ],
      "metadata": {
        "id": "UfHhqRHfnEUg"
      }
    },
    {
      "cell_type": "code",
      "source": [
        "# What is the demographic profile of the bank's clients and how does it vary across districts?\n",
        "\n",
        "\n",
        "merged_data = pd.merge(left=account, right=district, left_on=\"district_id\", right_on=\"A1\")\n",
        "\n",
        "grouped_data = merged_data.groupby(\"district\").agg(count_account_id=(\"account_id\", \"count\"))\n",
        "\n",
        "sorted_data = grouped_data.sort_values(by=\"count_account_id\", ascending=False)\n",
        "\n",
        "print(sorted_data)\n"
      ],
      "metadata": {
        "colab": {
          "base_uri": "https://localhost:8080/"
        },
        "id": "dio1pbhnpWEL",
        "outputId": "7a5e54cc-8cbe-4d0e-e722-1d390cc9ed74"
      },
      "execution_count": 218,
      "outputs": [
        {
          "output_type": "stream",
          "name": "stdout",
          "text": [
            "                 count_account_id\n",
            "district                         \n",
            "Hl.m. Praha                   554\n",
            "Karvina                       152\n",
            "Ostrava - mesto               135\n",
            "Brno - mesto                  128\n",
            "Zlin                           92\n",
            "...                           ...\n",
            "Semily                         37\n",
            "Rakovnik                       37\n",
            "Strakonice                     36\n",
            "Domazlice                      36\n",
            "Jihlava                        32\n",
            "\n",
            "[77 rows x 1 columns]\n"
          ]
        }
      ]
    },
    {
      "cell_type": "code",
      "source": [
        "# What is the demographic profile of the bank's clients and how does it vary across region?\n",
        "\n",
        "merged_df = pd.merge(left=account, right=district, left_on='district_id', right_on='A1')\n",
        "\n",
        "account_district_count = merged_df.groupby('region_name')['account_id'].count()\n",
        "\n",
        "print(account_district_count)\n",
        "\n"
      ],
      "metadata": {
        "colab": {
          "base_uri": "https://localhost:8080/"
        },
        "id": "mAHcJc86w8t3",
        "outputId": "c8d1de4a-11d0-4da0-9641-c8ef4361d6b7"
      },
      "execution_count": 152,
      "outputs": [
        {
          "output_type": "stream",
          "name": "stdout",
          "text": [
            "region_name\n",
            "Prague             554\n",
            "central Bohemia    574\n",
            "east Bohemia       544\n",
            "north Bohemia      457\n",
            "north Moravia      793\n",
            "south Bohemia      370\n",
            "south Moravia      778\n",
            "west Bohemia       430\n",
            "Name: account_id, dtype: int64\n"
          ]
        }
      ]
    },
    {
      "cell_type": "code",
      "source": [
        "# Which types of cards are most frequently used by the bank's clients and what is the overall profitability of the credit card business?\n",
        "\n",
        "card_type_counts = card.groupby('type')['card_id'].count()\n",
        "\n",
        "print(card_type_counts)\n"
      ],
      "metadata": {
        "colab": {
          "base_uri": "https://localhost:8080/"
        },
        "id": "WQPu0mygrZ0E",
        "outputId": "d9c4442f-f6fd-4beb-ab56-040024add7c9"
      },
      "execution_count": 148,
      "outputs": [
        {
          "output_type": "stream",
          "name": "stdout",
          "text": [
            "type\n",
            "classic    659\n",
            "gold        88\n",
            "junior     145\n",
            "Name: card_id, dtype: int64\n"
          ]
        }
      ]
    },
    {
      "cell_type": "code",
      "source": [
        "\n",
        "import matplotlib.pyplot as plt\n",
        "import seaborn as sns\n",
        "\n",
        "card_types = card_type_counts.index.to_list()\n",
        "counts = card_type_counts.values.tolist()\n",
        "\n",
        "plt.figure(figsize=(10, 6))\n",
        "sns.barplot(x=counts, y=card_types, palette=\"Set3\")\n",
        "\n",
        "plt.xlabel(\"Number of Cards\")\n",
        "plt.ylabel(\"Card Type\")\n",
        "plt.title(\"Card Type Distribution\")\n",
        "\n",
        "plt.xticks(rotation=45)\n",
        "\n",
        "plt.show()\n"
      ],
      "metadata": {
        "colab": {
          "base_uri": "https://localhost:8080/",
          "height": 666
        },
        "id": "nz4TiRNv6DEq",
        "outputId": "eb73c883-1e4e-4353-d55b-9c84d1824fc0"
      },
      "execution_count": 202,
      "outputs": [
        {
          "output_type": "stream",
          "name": "stderr",
          "text": [
            "<ipython-input-202-614edfe87d7c>:8: FutureWarning: \n",
            "\n",
            "Passing `palette` without assigning `hue` is deprecated and will be removed in v0.14.0. Assign the `y` variable to `hue` and set `legend=False` for the same effect.\n",
            "\n",
            "  sns.barplot(x=counts, y=card_types, palette=\"Set3\")\n"
          ]
        },
        {
          "output_type": "display_data",
          "data": {
            "text/plain": [
              "<Figure size 1000x600 with 1 Axes>"
            ],
            "image/png": "[encoded data removed]"
          },
          "metadata": {}
        }
      ]
    },
    {
      "cell_type": "code",
      "source": [
        "#Date pattern changed\n",
        "\n",
        "card['issued'] = pd.to_datetime(card['issued']).dt.strftime('%y-%m-%d')\n",
        "card['issued'].head()\n"
      ],
      "metadata": {
        "colab": {
          "base_uri": "https://localhost:8080/"
        },
        "id": "t4O_zIzHxSpF",
        "outputId": "8d4b67fa-e1f1-415c-b576-d566e0125e8d"
      },
      "execution_count": 156,
      "outputs": [
        {
          "output_type": "stream",
          "name": "stderr",
          "text": [
            "<ipython-input-156-212cee91dbaf>:3: UserWarning: Could not infer format, so each element will be parsed individually, falling back to `dateutil`. To ensure parsing is consistent and as-expected, please specify a format.\n",
            "  card['issued'] = pd.to_datetime(card['issued']).dt.strftime('%y-%m-%d')\n"
          ]
        },
        {
          "output_type": "execute_result",
          "data": {
            "text/plain": [
              "0    93-11-07\n",
              "1    94-01-19\n",
              "2    94-02-05\n",
              "3    94-02-08\n",
              "4    94-02-15\n",
              "Name: issued, dtype: object"
            ]
          },
          "metadata": {},
          "execution_count": 156
        }
      ]
    },
    {
      "cell_type": "code",
      "source": [
        "# How the banks have performed over the years. Give their detailed analysis year-wise.\n",
        "\n",
        "\n",
        "card['year'] = pd.to_datetime(card['issued']).dt.strftime('%Y')\n",
        "\n",
        "card_count_by_year = card.groupby('year')['card_id'].count()\n",
        "\n",
        "print(card_count_by_year)\n"
      ],
      "metadata": {
        "colab": {
          "base_uri": "https://localhost:8080/"
        },
        "id": "kVPZsx_QyCe7",
        "outputId": "1c658ebf-3335-4017-c16e-1cd8bf372fe1"
      },
      "execution_count": 161,
      "outputs": [
        {
          "output_type": "stream",
          "name": "stdout",
          "text": [
            "year\n",
            "1993      1\n",
            "1994     21\n",
            "1995     63\n",
            "1996    116\n",
            "1997    242\n",
            "1998    449\n",
            "Name: card_id, dtype: int64\n"
          ]
        },
        {
          "output_type": "stream",
          "name": "stderr",
          "text": [
            "<ipython-input-161-a7d6410000a3>:4: UserWarning: Could not infer format, so each element will be parsed individually, falling back to `dateutil`. To ensure parsing is consistent and as-expected, please specify a format.\n",
            "  card['year'] = pd.to_datetime(card['issued']).dt.strftime('%Y')\n"
          ]
        }
      ]
    },
    {
      "cell_type": "code",
      "source": [
        "# How the banks have performed over the years. Give their detailed analysis month-wise.\n",
        "\n",
        "card['month'] = pd.to_datetime(card['issued']).dt.strftime('%m')\n",
        "card_count_by_month = card.groupby('month')['card_id'].count()\n",
        "print(card_count_by_month)\n"
      ],
      "metadata": {
        "colab": {
          "base_uri": "https://localhost:8080/"
        },
        "id": "PkPJJ2Duyb_j",
        "outputId": "d52f87ee-3543-4aaf-d23c-e0089144698f"
      },
      "execution_count": 162,
      "outputs": [
        {
          "output_type": "stream",
          "name": "stdout",
          "text": [
            "month\n",
            "01    64\n",
            "02    47\n",
            "03    49\n",
            "04    54\n",
            "05    68\n",
            "06    74\n",
            "07    82\n",
            "08    79\n",
            "09    90\n",
            "10    93\n",
            "11    95\n",
            "12    97\n",
            "Name: card_id, dtype: int64\n"
          ]
        },
        {
          "output_type": "stream",
          "name": "stderr",
          "text": [
            "<ipython-input-162-1d0ed925c397>:3: UserWarning: Could not infer format, so each element will be parsed individually, falling back to `dateutil`. To ensure parsing is consistent and as-expected, please specify a format.\n",
            "  card['month'] = pd.to_datetime(card['issued']).dt.strftime('%m')\n"
          ]
        }
      ]
    },
    {
      "cell_type": "code",
      "source": [
        "# What is the bank’s loan portfolio and how does it vary across different purposes and client segments?\n",
        "\n",
        "loan_status_counts = loan.groupby('status')['loan_id'].count()\n",
        "\n",
        "print(loan_status_counts)\n"
      ],
      "metadata": {
        "colab": {
          "base_uri": "https://localhost:8080/"
        },
        "id": "-fvzoeFVsw0y",
        "outputId": "d53e3e79-75e1-4046-dba6-8ebdd29b8301"
      },
      "execution_count": 167,
      "outputs": [
        {
          "output_type": "stream",
          "name": "stdout",
          "text": [
            "status\n",
            "A    203\n",
            "B     31\n",
            "C    403\n",
            "D     45\n",
            "Name: loan_id, dtype: int64\n"
          ]
        }
      ]
    },
    {
      "cell_type": "code",
      "source": [
        "\n",
        "import matplotlib.pyplot as plt\n",
        "\n",
        "loan_status_counts = loan.groupby('status')['loan_id'].count()\n",
        "\n",
        "plt.bar(loan_status_counts.index, loan_status_counts.values)\n",
        "plt.xlabel('Loan Status')\n",
        "plt.ylabel('Number of Loans')\n",
        "plt.title('Loan Portfolio by Status')\n",
        "plt.show()\n"
      ],
      "metadata": {
        "colab": {
          "base_uri": "https://localhost:8080/",
          "height": 472
        },
        "id": "51K0whfO5qoZ",
        "outputId": "9d25c4d3-f069-4dc7-f10a-6cd3fca49490"
      },
      "execution_count": 200,
      "outputs": [
        {
          "output_type": "display_data",
          "data": {
            "text/plain": [
              "<Figure size 640x480 with 1 Axes>"
            ],
            "image/png": "[encoded data removed]"
          },
          "metadata": {}
        }
      ]
    },
    {
      "cell_type": "code",
      "source": [
        "# Can the bank introduce new financial products or services to attract more customers and increase profitability?\n",
        "\n",
        "Yes, the bank can introduce new financial products or services to attract more customers\n",
        "and increase profitability by catering to evolving customer needs\n",
        "and market demands."
      ],
      "metadata": {
        "id": "3Q7E6sHUz--Z"
      },
      "execution_count": 175,
      "outputs": []
    },
    {
      "cell_type": "markdown",
      "source": [
        "\n",
        "Důchod - Pension or Income\n",
        "Pojistné - Insurance\n",
        "Sankční úrok - Penalty Interest\n",
        "SIPO - Combined Household Payments (System for Consolidated Payments in the Czech Republic, covering utilities, TV license, etc.)\n",
        "Služby - Services\n",
        "Úrok - Interest\n",
        "Úvěr - Loan\n"
      ],
      "metadata": {
        "id": "r25ycu9n4GEX"
      }
    },
    {
      "cell_type": "code",
      "source": [
        "# How can the bank improve its customer service and satisfaction levels?\n",
        "\n",
        "\n",
        "unique_k_symbols = order['k_symbol'].unique()\n",
        "\n",
        "account_count_by_k_symbol = order.groupby('k_symbol')['account_id'].count()\n",
        "\n",
        "account_count_by_k_symbol = account_count_by_k_symbol[account_count_by_k_symbol.index != '']\n",
        "\n",
        "print(unique_k_symbols)\n",
        "print(account_count_by_k_symbol)\n"
      ],
      "metadata": {
        "colab": {
          "base_uri": "https://localhost:8080/"
        },
        "id": "B6DB0dEh3Sms",
        "outputId": "e0a4db23-77f8-4354-cd94-0e72ef4ad830"
      },
      "execution_count": 211,
      "outputs": [
        {
          "output_type": "stream",
          "name": "stdout",
          "text": [
            "['SIPO' 'UVER' ' ' 'POJISTNE' 'LEASING']\n",
            "k_symbol\n",
            "            1379\n",
            "LEASING      341\n",
            "POJISTNE     532\n",
            "SIPO        3502\n",
            "UVER         717\n",
            "Name: account_id, dtype: int64\n"
          ]
        }
      ]
    },
    {
      "cell_type": "code",
      "source": [
        "\n",
        "import matplotlib.pyplot as plt\n",
        "\n",
        "plt.bar(account_count_by_k_symbol.index, account_count_by_k_symbol.values)\n",
        "plt.xlabel(\"k_symbol\")\n",
        "plt.ylabel(\"Number of accounts\")\n",
        "plt.title(\"Number of accounts by k_symbol\")\n",
        "plt.xticks(rotation=90)\n",
        "plt.show()\n"
      ],
      "metadata": {
        "colab": {
          "base_uri": "https://localhost:8080/",
          "height": 521
        },
        "id": "EjOjtG3P3-2z",
        "outputId": "d29019cd-0a38-4a1b-e27a-27709a540cea"
      },
      "execution_count": 212,
      "outputs": [
        {
          "output_type": "display_data",
          "data": {
            "text/plain": [
              "<Figure size 640x480 with 1 Axes>"
            ],
            "image/png": "[encoded data removed]"
          },
          "metadata": {}
        }
      ]
    }
  ]
}